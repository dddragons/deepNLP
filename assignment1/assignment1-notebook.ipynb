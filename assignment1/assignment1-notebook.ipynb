{
 "cells": [
  {
   "cell_type": "markdown",
   "metadata": {},
   "source": [
    "# NLP and DeepLearning Assignment1\n",
    "### Working progress"
   ]
  },
  {
   "cell_type": "code",
   "execution_count": 1,
   "metadata": {
    "collapsed": true
   },
   "outputs": [],
   "source": [
    "import numpy as np\n",
    "import scipy as sp\n",
    "import pandas as pd\n",
    "import matplotlib as mpl\n",
    "import sklearn\n",
    "import random"
   ]
  },
  {
   "cell_type": "markdown",
   "metadata": {},
   "source": [
    "### Define the softmax function\n",
    "#### q1_softmax.py"
   ]
  },
  {
   "cell_type": "code",
   "execution_count": 2,
   "metadata": {
    "collapsed": true
   },
   "outputs": [],
   "source": [
    "def softmax(x):\n",
    "    \"\"\"Compute the softmax function for each row of the input x.\n",
    "\n",
    "    It is crucial that this function is optimized for speed because\n",
    "    it will be used frequently in later code. You might find numpy\n",
    "    functions np.exp, np.sum, np.reshape, np.max, and numpy\n",
    "    broadcasting useful for this task.\n",
    "\n",
    "    Numpy broadcasting documentation:\n",
    "    http://docs.scipy.org/doc/numpy/user/basics.broadcasting.html\n",
    "\n",
    "    You should also make sure that your code works for a single\n",
    "    N-dimensional vector (treat the vector as a single row) and\n",
    "    for M x N matrices. This may be useful for testing later. Also,\n",
    "    make sure that the dimensions of the output match the input.\n",
    "\n",
    "    You must implement the optimization in problem 1(a) of the\n",
    "    written assignment!\n",
    "\n",
    "    Arguments:\n",
    "    x -- A N dimensional vector or M x N dimensional numpy matrix.\n",
    "\n",
    "    Return:\n",
    "    x -- You are allowed to modify x in-place\n",
    "    \"\"\"\n",
    "    orig_shape = x.shape\n",
    "\n",
    "    if len(x.shape) > 1:\n",
    "        # Matrix\n",
    "        ### YOUR CODE HERE\n",
    "        # raise NotImplementedError\n",
    "\n",
    "        maxs = np.max(x, axis=1) # An array of max values of each line\n",
    "        x = x - maxs.reshape(maxs.shape[0], 1) # for each line, subtract the max value\n",
    "        sums = np.sum(np.exp(x), axis = 1)\n",
    "        x = np.exp(x) / sums.reshape(sums.shape[0], 1)\n",
    "        ### END YOUR CODE\n",
    "    else:\n",
    "        # Vector\n",
    "        ### YOUR CODE HERE\n",
    "        # raise NotImplementedError\n",
    "        x = x - np.max(x)\n",
    "        x = np.exp(x) / np.sum(np.exp(x))\n",
    "\n",
    "        ### END YOUR CODE\n",
    "\n",
    "    assert x.shape == orig_shape\n",
    "    return x"
   ]
  },
  {
   "cell_type": "markdown",
   "metadata": {},
   "source": [
    "### Test the numpy array broadcasting operations"
   ]
  },
  {
   "cell_type": "code",
   "execution_count": 3,
   "metadata": {},
   "outputs": [
    {
     "data": {
      "text/plain": [
       "array([[-22.73105858, -22.26894142,   0.        , -22.        ],\n",
       "       [-11.73105858, -11.26894142,   0.        , -10.        ],\n",
       "       [ -3.        ,  -2.        ,  -1.        ,   0.        ]])"
      ]
     },
     "execution_count": 3,
     "metadata": {},
     "output_type": "execute_result"
    }
   ],
   "source": [
    "x = np.array([\n",
    "    [0.26894142, 0.73105858, 23, 1],\n",
    "    [0.26894142, 0.73105858, 12, 2],\n",
    "    [2, 3, 4, 5]])\n",
    "maxs = np.max(x, axis=1) # An array of max values of each line\n",
    "x = x - maxs.reshape(maxs.shape[0], 1)\n",
    "x"
   ]
  },
  {
   "cell_type": "code",
   "execution_count": 4,
   "metadata": {},
   "outputs": [
    {
     "data": {
      "text/plain": [
       "array([[  1.34284749e-10,   2.13167810e-10,   9.99999999e-01,\n",
       "          2.78946809e-10],\n",
       "       [  8.03965182e-06,   1.27623948e-05,   9.99933801e-01,\n",
       "          4.53969243e-05],\n",
       "       [  3.20586033e-02,   8.71443187e-02,   2.36882818e-01,\n",
       "          6.43914260e-01]])"
      ]
     },
     "execution_count": 4,
     "metadata": {},
     "output_type": "execute_result"
    }
   ],
   "source": [
    "sums = np.sum(np.exp(x), axis = 1)\n",
    "x = np.exp(x) / sums.reshape(sums.shape[0], 1)\n",
    "x"
   ]
  },
  {
   "cell_type": "markdown",
   "metadata": {},
   "source": [
    "### Test the softmax function"
   ]
  },
  {
   "cell_type": "code",
   "execution_count": 5,
   "metadata": {
    "collapsed": true
   },
   "outputs": [],
   "source": [
    "def test_softmax_basic():\n",
    "    \"\"\"\n",
    "    Some simple tests to get you started.\n",
    "    Warning: these are not exhaustive.\n",
    "    \"\"\"\n",
    "    print \"Running basic tests...\"\n",
    "    test1 = softmax(np.array([1,2]))\n",
    "    print test1\n",
    "    ans1 = np.array([0.26894142,  0.73105858])\n",
    "    assert np.allclose(test1, ans1, rtol=1e-05, atol=1e-06)\n",
    "\n",
    "    test2 = softmax(np.array([[1001,1002],[3,4]]))\n",
    "    print test2\n",
    "    ans2 = np.array([\n",
    "        [0.26894142, 0.73105858],\n",
    "        [0.26894142, 0.73105858]])\n",
    "    assert np.allclose(test2, ans2, rtol=1e-05, atol=1e-06)\n",
    "\n",
    "    test3 = softmax(np.array([[-1001,-1002]]))\n",
    "    print test3\n",
    "    ans3 = np.array([0.73105858, 0.26894142])\n",
    "    assert np.allclose(test3, ans3, rtol=1e-05, atol=1e-06)\n",
    "\n",
    "    print \"You should be able to verify these results by hand!\\n\""
   ]
  },
  {
   "cell_type": "code",
   "execution_count": 6,
   "metadata": {},
   "outputs": [
    {
     "name": "stdout",
     "output_type": "stream",
     "text": [
      "Running basic tests...\n",
      "[ 0.26894142  0.73105858]\n",
      "[[ 0.26894142  0.73105858]\n",
      " [ 0.26894142  0.73105858]]\n",
      "[[ 0.73105858  0.26894142]]\n",
      "You should be able to verify these results by hand!\n",
      "\n"
     ]
    }
   ],
   "source": [
    "test_softmax_basic()"
   ]
  },
  {
   "cell_type": "markdown",
   "metadata": {},
   "source": [
    "### Define the sigmoid and its gradient\n",
    "#### q2_sigmoid.py"
   ]
  },
  {
   "cell_type": "code",
   "execution_count": 7,
   "metadata": {
    "collapsed": true
   },
   "outputs": [],
   "source": [
    "def sigmoid(x):\n",
    "    \"\"\"\n",
    "    Compute the sigmoid function for the input here.\n",
    "\n",
    "    Arguments:\n",
    "    x -- A scalar or numpy array.\n",
    "\n",
    "    Return:\n",
    "    s -- sigmoid(x)\n",
    "    \"\"\"\n",
    "\n",
    "    ### YOUR CODE HERE\n",
    "    #raise NotImplementedError\n",
    "    s = 1/ (1 + np.exp(-x))\n",
    "    \n",
    "    ### END YOUR CODE\n",
    "\n",
    "    return s\n",
    "\n",
    "\n",
    "def sigmoid_grad(s):\n",
    "    \"\"\"\n",
    "    Compute the gradient for the sigmoid function here. Note that\n",
    "    for this implementation, the input s should be the sigmoid\n",
    "    function value of your original input x.\n",
    "\n",
    "    Arguments:\n",
    "    s -- A scalar or numpy array.\n",
    "\n",
    "    Return:\n",
    "    ds -- Your computed gradient.\n",
    "    \"\"\"\n",
    "\n",
    "    ### YOUR CODE HERE\n",
    "    #raise NotImplementedError\n",
    "    \n",
    "    ds = s * (1 - s)\n",
    "    ### END YOUR CODE\n",
    "\n",
    "    return ds"
   ]
  },
  {
   "cell_type": "code",
   "execution_count": 8,
   "metadata": {},
   "outputs": [
    {
     "data": {
      "text/plain": [
       "array([[ 0.73105858,  0.88079708],\n",
       "       [ 0.26894142,  0.11920292]])"
      ]
     },
     "execution_count": 8,
     "metadata": {},
     "output_type": "execute_result"
    }
   ],
   "source": [
    "x = np.array([[1, 2], [-1, -2]])\n",
    "sigmoid(x)"
   ]
  },
  {
   "cell_type": "code",
   "execution_count": 9,
   "metadata": {
    "collapsed": true
   },
   "outputs": [],
   "source": [
    "def test_sigmoid_basic():\n",
    "    \"\"\"\n",
    "    Some simple tests to get you started.\n",
    "    Warning: these are not exhaustive.\n",
    "    \"\"\"\n",
    "    print \"Running basic tests...\"\n",
    "    x = np.array([[1, 2], [-1, -2]])\n",
    "    f = sigmoid(x)\n",
    "    g = sigmoid_grad(f)\n",
    "    print f\n",
    "    f_ans = np.array([\n",
    "        [0.73105858, 0.88079708],\n",
    "        [0.26894142, 0.11920292]])\n",
    "    assert np.allclose(f, f_ans, rtol=1e-05, atol=1e-06)\n",
    "    print g\n",
    "    g_ans = np.array([\n",
    "        [0.19661193, 0.10499359],\n",
    "        [0.19661193, 0.10499359]])\n",
    "    assert np.allclose(g, g_ans, rtol=1e-05, atol=1e-06)\n",
    "    print \"You should verify these results by hand!\\n\""
   ]
  },
  {
   "cell_type": "code",
   "execution_count": 10,
   "metadata": {},
   "outputs": [
    {
     "name": "stdout",
     "output_type": "stream",
     "text": [
      "Running basic tests...\n",
      "[[ 0.73105858  0.88079708]\n",
      " [ 0.26894142  0.11920292]]\n",
      "[[ 0.19661193  0.10499359]\n",
      " [ 0.19661193  0.10499359]]\n",
      "You should verify these results by hand!\n",
      "\n"
     ]
    }
   ],
   "source": [
    "test_sigmoid_basic()"
   ]
  },
  {
   "cell_type": "markdown",
   "metadata": {},
   "source": [
    "### Implement a gradient checker\n",
    "#### q2_gradcheck.py"
   ]
  },
  {
   "cell_type": "code",
   "execution_count": 11,
   "metadata": {
    "collapsed": true
   },
   "outputs": [],
   "source": [
    "# First implement a gradient checker by filling in the following functions\n",
    "def gradcheck_naive(f, x):\n",
    "    \"\"\" Gradient check for a function f.\n",
    "\n",
    "    Arguments:\n",
    "    f -- a function that takes a single argument and outputs the\n",
    "         cost and its gradients\n",
    "    x -- the point (numpy array) to check the gradient at\n",
    "    \"\"\"\n",
    "\n",
    "    rndstate = random.getstate()\n",
    "    random.setstate(rndstate)\n",
    "    fx, grad = f(x) # Evaluate function value at original point\n",
    "    h = 1e-4        # Do not change this!\n",
    "\n",
    "    # Iterate over all indexes in x\n",
    "    it = np.nditer(x, flags=['multi_index'], op_flags=['readwrite'])\n",
    "    count = 0\n",
    "    while not it.finished:\n",
    "        ix = it.multi_index\n",
    "\n",
    "        # Try modifying x[ix] with h defined above to compute\n",
    "        # numerical gradients. Make sure you call random.setstate(rndstate)\n",
    "        # before calling f(x) each time. This will make it possible\n",
    "        # to test cost functions with built in randomness later.\n",
    "\n",
    "        ### YOUR CODE HERE:\n",
    "        #raise NotImplementedError\n",
    "        random.setstate(rndstate)\n",
    "        current_value = x[ix] \n",
    "        ### calculate outcomes when the input at ix point change -h\n",
    "        x[ix] = current_value - h\n",
    "        y1, _ = f(x)\n",
    "        random.setstate(rndstate)\n",
    "        ### calculate outcomes when the input at ix point change h\n",
    "        x[ix] = current_value + h\n",
    "        y2, _ = f(x)\n",
    "        numgrad = (y2 - y1) / (2*h)\n",
    "        ### END YOUR CODE\n",
    "\n",
    "        # Compare gradients\n",
    "        reldiff = abs(numgrad - grad[ix]) / max(1, abs(numgrad), abs(grad[ix]))\n",
    "\n",
    "        if reldiff > 1e-5:\n",
    "            print \"Gradient check failed.\"\n",
    "            print \"First gradient error found at index %s\" % str(ix)\n",
    "            print \"Your gradient: %f \\t Numerical gradient: %f\" % (\n",
    "                grad[ix], numgrad)\n",
    "            count = count + 1\n",
    "\n",
    "        it.iternext() # Step to next dimension\n",
    "\n",
    "    print \"Gradient check found: \" + str(count) + \" erors!\"\n",
    "\n",
    "\n",
    "def sanity_check():\n",
    "    \"\"\"\n",
    "    Some basic sanity checks.\n",
    "    \"\"\"\n",
    "    quad = lambda x: (np.sum(x ** 2), x * 2)\n",
    "\n",
    "    print \"Running sanity checks...\"\n",
    "    gradcheck_naive(quad, np.array(123.456))      # scalar test\n",
    "    gradcheck_naive(quad, np.random.randn(3,))    # 1-D test\n",
    "    gradcheck_naive(quad, np.random.randn(4,5))   # 2-D test\n",
    "    print \"\"\n"
   ]
  },
  {
   "cell_type": "code",
   "execution_count": 12,
   "metadata": {},
   "outputs": [
    {
     "name": "stdout",
     "output_type": "stream",
     "text": [
      "Running sanity checks...\n",
      "Gradient check found: 0 erors!\n",
      "Gradient check found: 0 erors!\n",
      "Gradient check found: 0 erors!\n",
      "\n"
     ]
    }
   ],
   "source": [
    "sanity_check()"
   ]
  },
  {
   "cell_type": "markdown",
   "metadata": {},
   "source": [
    "### Implement one-layer NN forward and backward propagation\n",
    "#### q2_neural.py"
   ]
  },
  {
   "cell_type": "code",
   "execution_count": 25,
   "metadata": {
    "collapsed": true
   },
   "outputs": [],
   "source": [
    "def forward_backward_prop(data, labels, params, dimensions):\n",
    "    \"\"\"\n",
    "    Forward and backward propagation for a two-layer sigmoidal network\n",
    "\n",
    "    Compute the forward propagation and for the cross entropy cost,\n",
    "    and backward propagation for the gradients for all parameters.\n",
    "\n",
    "    Arguments:\n",
    "    data -- M x Dx matrix, where each row is a training example.\n",
    "    labels -- M x Dy matrix, where each row is a one-hot vector.\n",
    "    params -- Model parameters, these are unpacked for you.\n",
    "    dimensions -- A tuple of input dimension, number of hidden units\n",
    "                  and output dimension\n",
    "    \"\"\"\n",
    "\n",
    "    ### Unpack network parameters (do not modify)\n",
    "    ofs = 0\n",
    "    Dx, H, Dy = (dimensions[0], dimensions[1], dimensions[2])\n",
    "\n",
    "    W1 = np.reshape(params[ofs:ofs+ Dx * H], (Dx, H))\n",
    "    ofs += Dx * H\n",
    "    b1 = np.reshape(params[ofs:ofs + H], (1, H))\n",
    "    ofs += H\n",
    "    W2 = np.reshape(params[ofs:ofs + H * Dy], (H, Dy))\n",
    "    ofs += H * Dy\n",
    "    b2 = np.reshape(params[ofs:ofs + Dy], (1, Dy))\n",
    "\n",
    "    ### YOUR CODE HERE: forward propagation\n",
    "    #raise NotImplementedError\n",
    "    \n",
    "    N = dimensions[0]\n",
    "    \n",
    "    z1 = data.dot(W1) + b1\n",
    "    h = sigmoid(z1)\n",
    "    z2 = h.dot(W2) + b2\n",
    "    y = softmax(z2)\n",
    "    cost = (np.sum(-labels * np.log(y))) / N\n",
    "    ### END YOUR CODE\n",
    "\n",
    "    ### YOUR CODE HERE: backward propagation\n",
    "    #raise NotImplementedError\n",
    "    \n",
    "    delta1 = (y - labels) / N\n",
    "    gradb2 = np.sum(delta1, axis = 0)\n",
    "    gradW2_ind = delta1[:, np.newaxis, :] * h[:,:,np.newaxis]\n",
    "    gradW2 = np.sum(gradW2_ind, axis = 0)\n",
    "    deriv_h = sigmoid_grad(h)\n",
    "    delta2 = np.dot(delta1, W2.T)\n",
    "    gradb1_ind = delta2 * deriv_h\n",
    "    gradb1 = np.sum(gradb1_ind, axis = 0)\n",
    "    #gradW1 = data.T.dot(delta2 * deriv_h)\n",
    "    gradW1_ind = gradb1_ind[:, np.newaxis, :] * data[:, :, np.newaxis]\n",
    "    gradW1 = np.sum(gradW1_ind, axis = 0)\n",
    "    ### END YOUR CODE\n",
    "\n",
    "    ### Stack gradients (do not modify)\n",
    "    grad = np.concatenate((gradW1.flatten(), gradb1.flatten(),\n",
    "        gradW2.flatten(), gradb2.flatten()))\n",
    "\n",
    "    return cost, grad\n"
   ]
  },
  {
   "cell_type": "code",
   "execution_count": 26,
   "metadata": {},
   "outputs": [
    {
     "name": "stdout",
     "output_type": "stream",
     "text": [
      "Running sanity check...\n",
      "Gradient check failed.\n",
      "First gradient error found at index (30,)\n",
      "Your gradient: 0.058769 \t Numerical gradient: 0.058781\n",
      "Gradient check failed.\n",
      "First gradient error found at index (35,)\n",
      "Your gradient: 0.081748 \t Numerical gradient: 0.081762\n",
      "Gradient check failed.\n",
      "First gradient error found at index (36,)\n",
      "Your gradient: -0.070287 \t Numerical gradient: -0.070300\n",
      "Gradient check failed.\n",
      "First gradient error found at index (38,)\n",
      "Your gradient: 0.122022 \t Numerical gradient: 0.122012\n",
      "Gradient check failed.\n",
      "First gradient error found at index (40,)\n",
      "Your gradient: -0.185774 \t Numerical gradient: -0.185789\n",
      "Gradient check failed.\n",
      "First gradient error found at index (41,)\n",
      "Your gradient: -0.041820 \t Numerical gradient: -0.041832\n",
      "Gradient check failed.\n",
      "First gradient error found at index (42,)\n",
      "Your gradient: 0.042911 \t Numerical gradient: 0.042927\n",
      "Gradient check failed.\n",
      "First gradient error found at index (45,)\n",
      "Your gradient: -0.024462 \t Numerical gradient: -0.024444\n",
      "Gradient check failed.\n",
      "First gradient error found at index (50,)\n",
      "Your gradient: 0.105782 \t Numerical gradient: 0.105797\n",
      "Gradient check failed.\n",
      "First gradient error found at index (52,)\n",
      "Your gradient: 0.021609 \t Numerical gradient: 0.021624\n",
      "Gradient check failed.\n",
      "First gradient error found at index (54,)\n",
      "Your gradient: 0.079068 \t Numerical gradient: 0.079057\n",
      "Gradient check failed.\n",
      "First gradient error found at index (56,)\n",
      "Your gradient: -0.136838 \t Numerical gradient: -0.136854\n",
      "Gradient check failed.\n",
      "First gradient error found at index (63,)\n",
      "Your gradient: -0.025957 \t Numerical gradient: -0.025973\n",
      "Gradient check failed.\n",
      "First gradient error found at index (66,)\n",
      "Your gradient: -0.015181 \t Numerical gradient: -0.015195\n",
      "Gradient check failed.\n",
      "First gradient error found at index (73,)\n",
      "Your gradient: -0.002374 \t Numerical gradient: -0.002384\n",
      "Gradient check failed.\n",
      "First gradient error found at index (81,)\n",
      "Your gradient: -0.013264 \t Numerical gradient: -0.013276\n",
      "Gradient check failed.\n",
      "First gradient error found at index (91,)\n",
      "Your gradient: -0.063896 \t Numerical gradient: -0.063911\n",
      "Gradient check failed.\n",
      "First gradient error found at index (92,)\n",
      "Your gradient: 0.043388 \t Numerical gradient: 0.043374\n",
      "Gradient check failed.\n",
      "First gradient error found at index (93,)\n",
      "Your gradient: -0.061998 \t Numerical gradient: -0.062012\n",
      "Gradient check failed.\n",
      "First gradient error found at index (101,)\n",
      "Your gradient: -0.095827 \t Numerical gradient: -0.095842\n",
      "Gradient check failed.\n",
      "First gradient error found at index (102,)\n",
      "Your gradient: 0.102190 \t Numerical gradient: 0.102175\n",
      "Gradient check failed.\n",
      "First gradient error found at index (111,)\n",
      "Your gradient: -0.134639 \t Numerical gradient: -0.134660\n",
      "Gradient check failed.\n",
      "First gradient error found at index (112,)\n",
      "Your gradient: 0.043280 \t Numerical gradient: 0.043257\n",
      "Gradient check failed.\n",
      "First gradient error found at index (114,)\n",
      "Your gradient: 0.215749 \t Numerical gradient: 0.215733\n",
      "Gradient check found: 24 erors!\n"
     ]
    }
   ],
   "source": [
    "def sanity_check():\n",
    "    \"\"\"\n",
    "    Set up fake data and parameters for the neural network, and test using\n",
    "    gradcheck.\n",
    "    \"\"\"\n",
    "    print \"Running sanity check...\"\n",
    "\n",
    "    N = 20\n",
    "    dimensions = [10, 5, 10]\n",
    "    data = np.random.randn(N, dimensions[0])   # each row will be a datum\n",
    "    labels = np.zeros((N, dimensions[2]))\n",
    "    for i in xrange(N):\n",
    "        labels[i, random.randint(0,dimensions[2]-1)] = 1\n",
    "\n",
    "    params = np.random.randn((dimensions[0] + 1) * dimensions[1] + (\n",
    "        dimensions[1] + 1) * dimensions[2], )\n",
    "\n",
    "    gradcheck_naive(lambda params:\n",
    "        forward_backward_prop(data, labels, params, dimensions), params)\n",
    "sanity_check()"
   ]
  },
  {
   "cell_type": "markdown",
   "metadata": {},
   "source": [
    "### Step by step implementation and tests"
   ]
  },
  {
   "cell_type": "code",
   "execution_count": 27,
   "metadata": {},
   "outputs": [],
   "source": [
    "N = 20\n",
    "dimensions = [10, 5, 10]\n",
    "data = np.random.randn(N, dimensions[0])   # each row will be a datum\n",
    "labels = np.zeros((N, dimensions[2]))\n",
    "ofs = 0\n",
    "Dx, H, Dy = (dimensions[0], dimensions[1], dimensions[2])\n",
    "\n",
    "params = np.random.randn((dimensions[0] + 1) * dimensions[1] + (\n",
    "        dimensions[1] + 1) * dimensions[2], )\n",
    "\n",
    "W1 = np.reshape(params[ofs:ofs+ Dx * H], (Dx, H))\n",
    "ofs += Dx * H\n",
    "b1 = np.reshape(params[ofs:ofs + H], (1, H))\n",
    "ofs += H\n",
    "W2 = np.reshape(params[ofs:ofs + H * Dy], (H, Dy))\n",
    "ofs += H * Dy\n",
    "b2 = np.reshape(params[ofs:ofs + Dy], (1, Dy))\n",
    "\n",
    "for i in xrange(N):\n",
    "    labels[i, random.randint(0,dimensions[2]-1)] = 1"
   ]
  },
  {
   "cell_type": "code",
   "execution_count": 28,
   "metadata": {},
   "outputs": [
    {
     "data": {
      "text/plain": [
       "77.223613895975276"
      ]
     },
     "execution_count": 28,
     "metadata": {},
     "output_type": "execute_result"
    }
   ],
   "source": [
    "z1 = data.dot(W1) + b1\n",
    "h = sigmoid(z1)\n",
    "z2 = h.dot(W2) + b2\n",
    "y = softmax(z2)\n",
    "cost = np.sum(-labels * np.log(y))\n",
    "cost"
   ]
  },
  {
   "cell_type": "code",
   "execution_count": 29,
   "metadata": {},
   "outputs": [
    {
     "data": {
      "text/plain": [
       "array([[-0.        , -0.        , -0.        , -0.        , -6.54623674,\n",
       "        -0.        , -0.        , -0.        , -0.        , -0.        ],\n",
       "       [-0.        , -1.49248814, -0.        , -0.        , -0.        ,\n",
       "        -0.        , -0.        , -0.        , -0.        , -0.        ],\n",
       "       [-0.        , -0.        , -0.        , -0.        , -0.        ,\n",
       "        -0.        , -3.60567446, -0.        , -0.        , -0.        ],\n",
       "       [-0.        , -0.        , -0.        , -0.        , -0.        ,\n",
       "        -0.        , -0.        , -0.        , -0.        , -4.84693109],\n",
       "       [-0.        , -2.17272416, -0.        , -0.        , -0.        ,\n",
       "        -0.        , -0.        , -0.        , -0.        , -0.        ],\n",
       "       [-0.        , -0.        , -5.11648724, -0.        , -0.        ,\n",
       "        -0.        , -0.        , -0.        , -0.        , -0.        ],\n",
       "       [-0.        , -0.        , -0.        , -0.        , -0.        ,\n",
       "        -2.89178453, -0.        , -0.        , -0.        , -0.        ],\n",
       "       [-0.        , -0.        , -0.        , -0.        , -0.        ,\n",
       "        -0.        , -0.        , -0.        , -4.34249167, -0.        ],\n",
       "       [-0.        , -1.91754824, -0.        , -0.        , -0.        ,\n",
       "        -0.        , -0.        , -0.        , -0.        , -0.        ],\n",
       "       [-4.45988541, -0.        , -0.        , -0.        , -0.        ,\n",
       "        -0.        , -0.        , -0.        , -0.        , -0.        ],\n",
       "       [-0.        , -2.54296631, -0.        , -0.        , -0.        ,\n",
       "        -0.        , -0.        , -0.        , -0.        , -0.        ],\n",
       "       [-3.80771505, -0.        , -0.        , -0.        , -0.        ,\n",
       "        -0.        , -0.        , -0.        , -0.        , -0.        ],\n",
       "       [-0.        , -0.        , -0.        , -0.        , -0.        ,\n",
       "        -4.13441591, -0.        , -0.        , -0.        , -0.        ],\n",
       "       [-0.        , -0.        , -0.        , -1.68430598, -0.        ,\n",
       "        -0.        , -0.        , -0.        , -0.        , -0.        ],\n",
       "       [-0.        , -0.        , -0.        , -0.        , -0.        ,\n",
       "        -0.        , -0.        , -0.        , -0.        , -7.32977357],\n",
       "       [-0.        , -0.        , -2.18438623, -0.        , -0.        ,\n",
       "        -0.        , -0.        , -0.        , -0.        , -0.        ],\n",
       "       [-0.        , -0.        , -0.        , -0.        , -0.        ,\n",
       "        -0.        , -3.54973582, -0.        , -0.        , -0.        ],\n",
       "       [-0.        , -0.        , -0.        , -0.        , -0.        ,\n",
       "        -0.        , -0.        , -0.        , -4.10209083, -0.        ],\n",
       "       [-0.        , -0.        , -0.        , -0.        , -6.97892486,\n",
       "        -0.        , -0.        , -0.        , -0.        , -0.        ],\n",
       "       [-0.        , -0.        , -0.        , -0.        , -0.        ,\n",
       "        -0.        , -3.51704767, -0.        , -0.        , -0.        ]])"
      ]
     },
     "execution_count": 29,
     "metadata": {},
     "output_type": "execute_result"
    }
   ],
   "source": [
    "labels * np.log(y)"
   ]
  },
  {
   "cell_type": "code",
   "execution_count": 30,
   "metadata": {},
   "outputs": [
    {
     "data": {
      "text/plain": [
       "array([ 6.54623674,  1.49248814,  3.60567446,  4.84693109,  2.17272416,\n",
       "        5.11648724,  2.89178453,  4.34249167,  1.91754824,  4.45988541,\n",
       "        2.54296631,  3.80771505,  4.13441591,  1.68430598,  7.32977357,\n",
       "        2.18438623,  3.54973582,  4.10209083,  6.97892486,  3.51704767])"
      ]
     },
     "execution_count": 30,
     "metadata": {},
     "output_type": "execute_result"
    }
   ],
   "source": [
    "np.sum(-1 * labels * np.log(y), axis = 1)"
   ]
  },
  {
   "cell_type": "code",
   "execution_count": 31,
   "metadata": {},
   "outputs": [
    {
     "data": {
      "text/plain": [
       "77.223613895975262"
      ]
     },
     "execution_count": 31,
     "metadata": {},
     "output_type": "execute_result"
    }
   ],
   "source": [
    "np.sum(np.sum(-1 * labels * np.log(y), axis = 1))"
   ]
  },
  {
   "cell_type": "code",
   "execution_count": 32,
   "metadata": {},
   "outputs": [
    {
     "data": {
      "text/plain": [
       "array([[  1.95227235e-03,   2.41539850e-02,   4.66100392e-02,\n",
       "          7.81184698e-01,  -9.98564492e-01,   8.63582395e-02,\n",
       "          2.11298153e-02,   3.21054830e-02,   4.65937590e-03,\n",
       "          4.10584416e-04],\n",
       "       [  6.42955684e-03,  -7.75187406e-01,   1.12962395e-01,\n",
       "          2.30967638e-01,   7.54557550e-03,   9.36620701e-02,\n",
       "          1.97640806e-02,   2.34239639e-01,   6.14195028e-02,\n",
       "          8.19694780e-03],\n",
       "       [  8.54443236e-03,   4.47910330e-01,   3.18837075e-02,\n",
       "          2.93933190e-01,   2.93937253e-03,   2.12834758e-02,\n",
       "         -9.72830886e-01,   1.14247921e-01,   2.01350268e-02,\n",
       "          3.19534298e-02],\n",
       "       [  1.06336248e-02,   1.48799739e-01,   4.03259930e-02,\n",
       "          6.56691784e-01,   1.65869962e-02,   1.08851182e-02,\n",
       "          3.93190025e-02,   6.64489412e-02,   2.45636122e-03,\n",
       "         -9.92147561e-01],\n",
       "       [  4.89526055e-03,  -8.86132998e-01,   5.02453364e-02,\n",
       "          6.61416050e-01,   1.58461726e-02,   2.36509165e-02,\n",
       "          2.53542880e-02,   9.71311017e-02,   4.23854172e-03,\n",
       "          3.35533105e-03],\n",
       "       [  1.81155123e-03,   7.99917015e-03,  -9.94002948e-01,\n",
       "          9.23946029e-01,   1.60252282e-03,   4.77400064e-03,\n",
       "          4.80866010e-02,   5.09907279e-03,   1.57416323e-04,\n",
       "          5.26584283e-04],\n",
       "       [  3.62995223e-03,   3.26125711e-02,   2.92860957e-02,\n",
       "          8.06282408e-01,   6.89369294e-04,  -9.44522876e-01,\n",
       "          4.52294392e-02,   2.09446466e-02,   4.50343793e-03,\n",
       "          1.34495621e-03],\n",
       "       [  5.90910885e-02,   2.75578909e-01,   8.24489088e-02,\n",
       "          2.89595231e-01,   1.44824434e-02,   1.55788424e-02,\n",
       "          1.09767366e-01,   8.26975489e-02,  -9.86995914e-01,\n",
       "          5.77555764e-02],\n",
       "       [  1.45926228e-02,  -8.53033151e-01,   4.05072728e-02,\n",
       "          6.55208409e-01,   1.80065710e-02,   8.76669261e-03,\n",
       "          4.78061969e-02,   5.66040745e-02,   2.00163876e-03,\n",
       "          9.53967289e-03],\n",
       "       [ -9.88436312e-01,   1.06248894e-01,   6.80587523e-02,\n",
       "          5.98575229e-01,   2.56846846e-03,   6.53606214e-02,\n",
       "          6.55246316e-02,   6.00699674e-02,   1.51982730e-02,\n",
       "          6.83147521e-03],\n",
       "       [  1.88085519e-03,  -9.21367195e-01,   1.60694310e-02,\n",
       "          8.03839133e-01,   1.37399348e-03,   2.62706811e-02,\n",
       "          2.49055406e-02,   4.08352270e-02,   3.67331417e-03,\n",
       "          2.51902009e-03],\n",
       "       [ -9.77801156e-01,   1.45118959e-01,   1.44217457e-01,\n",
       "          4.80569768e-01,   1.94145720e-02,   3.60770770e-02,\n",
       "          3.97892525e-02,   9.76104964e-02,   8.80145106e-03,\n",
       "          6.20212307e-03],\n",
       "       [  5.83950067e-02,   3.12017584e-01,   7.67393702e-02,\n",
       "          2.47508887e-01,   1.10573723e-02,  -9.83987985e-01,\n",
       "          1.05162156e-01,   8.45213991e-02,   1.66883946e-02,\n",
       "          7.18978149e-02],\n",
       "       [  4.73876609e-03,   2.58583432e-01,   8.59287701e-02,\n",
       "         -8.14426821e-01,   9.61164229e-03,   7.15218785e-02,\n",
       "          1.70756553e-02,   2.90989830e-01,   6.53638035e-02,\n",
       "          1.06130429e-02],\n",
       "       [  1.57063758e-03,   2.86101645e-02,   4.04322913e-02,\n",
       "          7.42756864e-01,   1.57754254e-03,   1.03282046e-01,\n",
       "          2.71712723e-02,   4.59512752e-02,   7.99218436e-03,\n",
       "         -9.99344278e-01],\n",
       "       [  4.33510584e-02,   2.13535326e-01,  -8.87453210e-01,\n",
       "          4.72975915e-01,   6.50129382e-03,   2.53817442e-02,\n",
       "          4.94335963e-02,   5.54969709e-02,   7.71391235e-03,\n",
       "          1.30633929e-02],\n",
       "       [  2.86769966e-03,   5.31850816e-02,   4.85487024e-02,\n",
       "          6.80459785e-01,   7.66510476e-04,   1.24204486e-01,\n",
       "         -9.71267771e-01,   4.56022849e-02,   1.42651775e-02,\n",
       "          1.36804399e-03],\n",
       "       [  8.04032740e-03,   4.28242124e-01,   3.14175290e-02,\n",
       "          3.30114578e-01,   3.08592397e-03,   2.04557219e-02,\n",
       "          2.57072890e-02,   1.09522508e-01,  -9.83461939e-01,\n",
       "          2.68759380e-02],\n",
       "       [  2.95315665e-03,   1.01314908e-02,   1.41839264e-02,\n",
       "          9.18650170e-01,  -9.99068696e-01,   1.19237217e-02,\n",
       "          3.48279974e-02,   5.68099463e-03,   3.42125333e-04,\n",
       "          3.75112854e-04],\n",
       "       [  8.53873853e-03,   1.55420494e-01,   6.88881349e-02,\n",
       "          5.49915005e-01,   3.03378435e-02,   2.04625783e-02,\n",
       "         -9.70313048e-01,   1.25699914e-01,   5.20680160e-03,\n",
       "          5.84353878e-03]])"
      ]
     },
     "execution_count": 32,
     "metadata": {},
     "output_type": "execute_result"
    }
   ],
   "source": [
    "delta1 = y - labels\n",
    "delta1"
   ]
  },
  {
   "cell_type": "code",
   "execution_count": 33,
   "metadata": {},
   "outputs": [
    {
     "data": {
      "text/plain": [
       "array([ -1.72232086,  -0.7875725 ,  -0.85270204,  10.31016395,\n",
       "        -1.833639  ,  -1.15861095,  -2.16835752,   1.6714993 ,\n",
       "        -1.72564111,  -1.73281925])"
      ]
     },
     "execution_count": 33,
     "metadata": {},
     "output_type": "execute_result"
    }
   ],
   "source": [
    "gradb2 = np.sum(delta1, axis = 0)\n",
    "gradb2"
   ]
  },
  {
   "cell_type": "code",
   "execution_count": 34,
   "metadata": {},
   "outputs": [
    {
     "data": {
      "text/plain": [
       "array([[-0.52613085, -0.62268624,  0.43884497,  4.09181847, -0.64995845,\n",
       "        -0.16582412, -1.89031752,  0.99959773, -0.73772147, -0.93762252],\n",
       "       [-0.66279067,  0.1031362 , -1.21751193,  6.4828994 , -0.74142512,\n",
       "        -1.27442649, -1.02591716,  0.74413286, -1.78978353, -0.61831356],\n",
       "       [-1.13782892,  0.01046933, -0.51991248,  4.5627367 , -1.70973455,\n",
       "        -0.37292589, -0.64686929,  0.39405758, -0.03104718, -0.54894531],\n",
       "       [-0.71363026, -0.58342972, -0.76193301,  5.80063587, -1.89332424,\n",
       "        -0.54384718, -0.65094798,  0.3148916 ,  0.04329785, -1.01171294],\n",
       "       [-0.96953153, -1.2300284 , -1.0593119 ,  6.34346645, -1.49802707,\n",
       "         0.04916734, -0.83669751,  0.63822417, -0.31614489, -1.12111665]])"
      ]
     },
     "execution_count": 34,
     "metadata": {},
     "output_type": "execute_result"
    }
   ],
   "source": [
    "np.dot(h.T, delta1)"
   ]
  },
  {
   "cell_type": "code",
   "execution_count": 35,
   "metadata": {},
   "outputs": [
    {
     "data": {
      "text/plain": [
       "(20, 5, 10)"
      ]
     },
     "execution_count": 35,
     "metadata": {},
     "output_type": "execute_result"
    }
   ],
   "source": [
    "gradW2_ind = delta1[:, np.newaxis, :] * h[:,:,np.newaxis]\n",
    "gradW2_ind.shape"
   ]
  },
  {
   "cell_type": "code",
   "execution_count": 36,
   "metadata": {},
   "outputs": [
    {
     "data": {
      "text/plain": [
       "(5, 10)"
      ]
     },
     "execution_count": 36,
     "metadata": {},
     "output_type": "execute_result"
    }
   ],
   "source": [
    "gradW2 = np.sum(gradW2_ind, axis = 0)\n",
    "gradW2.shape"
   ]
  },
  {
   "cell_type": "code",
   "execution_count": 37,
   "metadata": {},
   "outputs": [
    {
     "data": {
      "text/plain": [
       "array([[ True,  True,  True,  True,  True,  True,  True,  True,  True,\n",
       "         True],\n",
       "       [ True,  True,  True,  True,  True,  True,  True,  True,  True,\n",
       "         True],\n",
       "       [ True,  True,  True,  True,  True,  True,  True,  True,  True,\n",
       "         True],\n",
       "       [ True,  True,  True,  True,  True,  True,  True,  True,  True,\n",
       "         True],\n",
       "       [ True,  True,  True,  True,  True,  True,  True,  True,  True,\n",
       "         True]], dtype=bool)"
      ]
     },
     "execution_count": 37,
     "metadata": {},
     "output_type": "execute_result"
    }
   ],
   "source": [
    "np.dot(h.T, delta1) == gradW2"
   ]
  },
  {
   "cell_type": "code",
   "execution_count": 38,
   "metadata": {},
   "outputs": [
    {
     "data": {
      "text/plain": [
       "array([[ 0.22711488,  0.05319335,  0.06389117,  0.06051832,  0.22807427],\n",
       "       [ 0.10285861,  0.00481792,  0.22634651,  0.14091671,  0.12333534],\n",
       "       [ 0.04125389,  0.04795291,  0.00176305,  0.00038147,  0.08037629],\n",
       "       [ 0.14647056,  0.16174192,  0.0313536 ,  0.05539273,  0.02950779],\n",
       "       [ 0.24536392,  0.23605148,  0.09488275,  0.15090334,  0.07122657],\n",
       "       [ 0.03745923,  0.01383145,  0.01621613,  0.05179103,  0.21890234],\n",
       "       [ 0.22832997,  0.24441441,  0.19011564,  0.00611153,  0.16265998],\n",
       "       [ 0.00095147,  0.05640323,  0.06240625,  0.01550247,  0.14005443],\n",
       "       [ 0.03840941,  0.09243839,  0.03944413,  0.03851521,  0.00195944],\n",
       "       [ 0.24775945,  0.247166  ,  0.24668324,  0.23597477,  0.095073  ],\n",
       "       [ 0.0397947 ,  0.1854855 ,  0.12625071,  0.24126662,  0.23234088],\n",
       "       [ 0.03341942,  0.2181262 ,  0.2228408 ,  0.11351771,  0.0120367 ],\n",
       "       [ 0.08429161,  0.01981502,  0.05053335,  0.00563409,  0.03003383],\n",
       "       [ 0.00381641,  0.01403985,  0.01986909,  0.05998203,  0.00602219],\n",
       "       [ 0.12468579,  0.03879044,  0.24712866,  0.02874011,  0.17203044],\n",
       "       [ 0.0132894 ,  0.16190039,  0.0466459 ,  0.10341365,  0.04694063],\n",
       "       [ 0.04959402,  0.19319484,  0.11756958,  0.08167141,  0.13215804],\n",
       "       [ 0.06099961,  0.04816265,  0.03557685,  0.00068445,  0.16328855],\n",
       "       [ 0.0450776 ,  0.17193217,  0.15262222,  0.02167759,  0.03623166],\n",
       "       [ 0.1955702 ,  0.23663611,  0.0435305 ,  0.01924519,  0.03474818]])"
      ]
     },
     "execution_count": 38,
     "metadata": {},
     "output_type": "execute_result"
    }
   ],
   "source": [
    "deriv_h = sigmoid_grad(h)\n",
    "deriv_h"
   ]
  },
  {
   "cell_type": "code",
   "execution_count": 39,
   "metadata": {},
   "outputs": [
    {
     "data": {
      "text/plain": [
       "array([[ 1.7712793 ,  1.72181018,  1.04804574,  2.59539242,  0.30027081],\n",
       "       [-0.38717734, -0.81858559, -0.29766813,  1.59464295,  0.2806725 ],\n",
       "       [ 1.68982025, -0.32858798,  0.33436432, -1.62785206,  0.66346902],\n",
       "       [ 0.79469565, -0.82851018, -0.70289134,  3.50054064,  2.35104312],\n",
       "       [-0.43416908, -0.30244343, -0.76941363,  3.0312389 ,  1.06407829],\n",
       "       [ 1.00241381,  1.58750073, -1.3832423 ,  2.77466755,  1.60756541],\n",
       "       [-0.34115627,  1.51830239, -1.19037576,  0.98998395,  1.35322389],\n",
       "       [-0.6053443 ,  1.40314916, -1.17862441,  1.7256331 ,  1.86613696],\n",
       "       [-0.4908323 , -0.19306649, -0.76060604,  2.99763821,  1.03301475],\n",
       "       [ 2.03786985, -0.39355355, -1.2723768 ,  2.35803246,  1.70461157],\n",
       "       [-0.38542476, -0.13307579, -0.86816605,  3.52531337,  1.2778676 ],\n",
       "       [ 1.95546041, -0.55010853, -1.16627262,  1.85682613,  1.53876558],\n",
       "       [-0.58553889,  1.41203874, -0.66554446, -1.12582744,  0.30339072],\n",
       "       [ 0.02526722, -0.8462359 ,  0.73911121, -2.78783973, -1.38693177],\n",
       "       [ 0.84558614, -0.9368491 , -0.71253099,  4.03482496,  2.47469091],\n",
       "       [ 0.86458378,  1.28597601, -0.87666447,  1.16245361,  0.81898215],\n",
       "       [ 1.58155762, -0.42268315,  0.01365585,  0.23069838,  1.31146782],\n",
       "       [-0.1905422 ,  1.42569694, -1.2036743 ,  1.57544962,  2.03003048],\n",
       "       [ 1.75279004,  1.95150635,  0.87300226,  2.94664983,  0.52893327],\n",
       "       [ 1.51090057, -0.44757879,  0.01029543, -0.46868972,  1.15383383]])"
      ]
     },
     "execution_count": 39,
     "metadata": {},
     "output_type": "execute_result"
    }
   ],
   "source": [
    "delta2 = np.dot(delta1, W2.T)\n",
    "delta2"
   ]
  },
  {
   "cell_type": "code",
   "execution_count": 40,
   "metadata": {},
   "outputs": [
    {
     "data": {
      "text/plain": [
       "array([[ 1.7712793 ,  1.72181018,  1.04804574,  2.59539242,  0.30027081],\n",
       "       [-0.38717734, -0.81858559, -0.29766813,  1.59464295,  0.2806725 ],\n",
       "       [ 1.68982025, -0.32858798,  0.33436432, -1.62785206,  0.66346902],\n",
       "       [ 0.79469565, -0.82851018, -0.70289134,  3.50054064,  2.35104312],\n",
       "       [-0.43416908, -0.30244343, -0.76941363,  3.0312389 ,  1.06407829],\n",
       "       [ 1.00241381,  1.58750073, -1.3832423 ,  2.77466755,  1.60756541],\n",
       "       [-0.34115627,  1.51830239, -1.19037576,  0.98998395,  1.35322389],\n",
       "       [-0.6053443 ,  1.40314916, -1.17862441,  1.7256331 ,  1.86613696],\n",
       "       [-0.4908323 , -0.19306649, -0.76060604,  2.99763821,  1.03301475],\n",
       "       [ 2.03786985, -0.39355355, -1.2723768 ,  2.35803246,  1.70461157],\n",
       "       [-0.38542476, -0.13307579, -0.86816605,  3.52531337,  1.2778676 ],\n",
       "       [ 1.95546041, -0.55010853, -1.16627262,  1.85682613,  1.53876558],\n",
       "       [-0.58553889,  1.41203874, -0.66554446, -1.12582744,  0.30339072],\n",
       "       [ 0.02526722, -0.8462359 ,  0.73911121, -2.78783973, -1.38693177],\n",
       "       [ 0.84558614, -0.9368491 , -0.71253099,  4.03482496,  2.47469091],\n",
       "       [ 0.86458378,  1.28597601, -0.87666447,  1.16245361,  0.81898215],\n",
       "       [ 1.58155762, -0.42268315,  0.01365585,  0.23069838,  1.31146782],\n",
       "       [-0.1905422 ,  1.42569694, -1.2036743 ,  1.57544962,  2.03003048],\n",
       "       [ 1.75279004,  1.95150635,  0.87300226,  2.94664983,  0.52893327],\n",
       "       [ 1.51090057, -0.44757879,  0.01029543, -0.46868972,  1.15383383]])"
      ]
     },
     "execution_count": 40,
     "metadata": {},
     "output_type": "execute_result"
    }
   ],
   "source": [
    "gradh = np.dot(delta1, W2.T)\n",
    "gradh"
   ]
  },
  {
   "cell_type": "code",
   "execution_count": 41,
   "metadata": {},
   "outputs": [
    {
     "data": {
      "text/plain": [
       "array([[ True,  True,  True,  True,  True],\n",
       "       [ True,  True,  True,  True,  True],\n",
       "       [ True,  True,  True,  True,  True],\n",
       "       [ True,  True,  True,  True,  True],\n",
       "       [ True,  True,  True,  True,  True],\n",
       "       [ True,  True,  True,  True,  True],\n",
       "       [ True,  True,  True,  True,  True],\n",
       "       [ True,  True,  True,  True,  True],\n",
       "       [ True,  True,  True,  True,  True],\n",
       "       [ True,  True,  True,  True,  True],\n",
       "       [ True,  True,  True,  True,  True],\n",
       "       [ True,  True,  True,  True,  True],\n",
       "       [ True,  True,  True,  True,  True],\n",
       "       [ True,  True,  True,  True,  True],\n",
       "       [ True,  True,  True,  True,  True],\n",
       "       [ True,  True,  True,  True,  True],\n",
       "       [ True,  True,  True,  True,  True],\n",
       "       [ True,  True,  True,  True,  True],\n",
       "       [ True,  True,  True,  True,  True],\n",
       "       [ True,  True,  True,  True,  True]], dtype=bool)"
      ]
     },
     "execution_count": 41,
     "metadata": {},
     "output_type": "execute_result"
    }
   ],
   "source": [
    "delta2 == gradh"
   ]
  },
  {
   "cell_type": "code",
   "execution_count": null,
   "metadata": {
    "collapsed": true
   },
   "outputs": [],
   "source": []
  },
  {
   "cell_type": "code",
   "execution_count": 383,
   "metadata": {},
   "outputs": [
    {
     "data": {
      "text/plain": [
       "array([[  1.48071759e-01,   9.55729780e-02,  -2.66658595e-01,\n",
       "          9.37784106e-02,   1.64516141e-01],\n",
       "       [  1.62488419e-01,   1.66875971e-02,   1.49560832e-02,\n",
       "         -1.56445360e-01,   1.99732956e-01],\n",
       "       [ -3.29737337e-04,   5.37456001e-03,  -1.35904135e-02,\n",
       "          6.64663203e-02,   2.91223710e-03],\n",
       "       [  1.97160852e-02,  -3.78621301e-01,   1.83601544e-01,\n",
       "          2.76843910e-02,  -3.14226368e-01],\n",
       "       [  2.27513496e-03,   2.39200417e-01,  -1.05325366e-01,\n",
       "         -5.14312370e-04,   7.16550931e-03],\n",
       "       [  2.57738791e-03,  -2.48028907e-04,  -2.63148151e-01,\n",
       "         -1.68596301e-03,   3.26676068e-01],\n",
       "       [  4.83028688e-03,  -5.29988720e-01,   7.72780579e-02,\n",
       "         -1.15345025e-01,   3.69435128e-01],\n",
       "       [  4.40423364e-03,  -3.29075189e-01,   1.85867239e-01,\n",
       "          2.09182895e-01,  -3.60189294e-03],\n",
       "       [  2.87445030e-04,  -2.01897520e-02,   3.76773997e-01,\n",
       "         -2.99468662e-01,   2.18053005e-01],\n",
       "       [  5.04111025e-02,  -4.75315118e-01,   1.57962160e-01,\n",
       "         -3.54630906e-01,   2.07193761e-02],\n",
       "       [  2.39553921e-03,  -1.93384751e-01,   2.34423884e-01,\n",
       "          2.00964360e-01,  -2.25407496e-02],\n",
       "       [ -4.03824234e-04,  -1.45660245e-03,   1.26273456e-01,\n",
       "          2.65167369e-01,   2.01926313e-02],\n",
       "       [  1.96613726e-01,   8.47603934e-02,  -2.59400665e-01,\n",
       "          2.23158580e-03,   2.16639174e-01],\n",
       "       [  3.06939396e-05,   5.56463459e-02,  -2.20963349e-03,\n",
       "         -1.99677384e-03,   3.53112916e-01],\n",
       "       [  4.83772762e-03,  -3.96734047e-01,   2.11803479e-01,\n",
       "         -1.48144712e-01,   3.47900555e-01],\n",
       "       [ -5.83256874e-02,  -3.91590737e-02,   2.57672689e-01,\n",
       "          5.97386886e-05,   1.28780364e-04],\n",
       "       [  5.67494124e-03,   4.76446197e-07,  -3.05830213e-01,\n",
       "         -1.11336811e-02,   2.35989435e-01],\n",
       "       [ -3.03307503e-03,   3.35178673e-02,  -1.53589348e-01,\n",
       "          1.66686854e-01,  -8.05819928e-04],\n",
       "       [  3.09679216e-02,  -4.66921687e-01,   2.26011091e-01,\n",
       "         -2.13751110e-02,   1.30240528e-01],\n",
       "       [  2.16026609e-02,   2.71955366e-02,  -2.23493191e-02,\n",
       "         -1.70819536e-01,   2.26089416e-02]])"
      ]
     },
     "execution_count": 383,
     "metadata": {},
     "output_type": "execute_result"
    }
   ],
   "source": [
    "gradh1 = gradh*h*(1-h)\n",
    "gradh1"
   ]
  },
  {
   "cell_type": "code",
   "execution_count": 407,
   "metadata": {},
   "outputs": [
    {
     "data": {
      "text/plain": [
       "array([[  1.48071759e-01,   9.55729780e-02,  -2.66658595e-01,\n",
       "          9.37784106e-02,   1.64516141e-01],\n",
       "       [  1.62488419e-01,   1.66875971e-02,   1.49560832e-02,\n",
       "         -1.56445360e-01,   1.99732956e-01],\n",
       "       [ -3.29737337e-04,   5.37456001e-03,  -1.35904135e-02,\n",
       "          6.64663203e-02,   2.91223710e-03],\n",
       "       [  1.97160852e-02,  -3.78621301e-01,   1.83601544e-01,\n",
       "          2.76843910e-02,  -3.14226368e-01],\n",
       "       [  2.27513496e-03,   2.39200417e-01,  -1.05325366e-01,\n",
       "         -5.14312370e-04,   7.16550931e-03],\n",
       "       [  2.57738791e-03,  -2.48028907e-04,  -2.63148151e-01,\n",
       "         -1.68596301e-03,   3.26676068e-01],\n",
       "       [  4.83028688e-03,  -5.29988720e-01,   7.72780579e-02,\n",
       "         -1.15345025e-01,   3.69435128e-01],\n",
       "       [  4.40423364e-03,  -3.29075189e-01,   1.85867239e-01,\n",
       "          2.09182895e-01,  -3.60189294e-03],\n",
       "       [  2.87445030e-04,  -2.01897520e-02,   3.76773997e-01,\n",
       "         -2.99468662e-01,   2.18053005e-01],\n",
       "       [  5.04111025e-02,  -4.75315118e-01,   1.57962160e-01,\n",
       "         -3.54630906e-01,   2.07193761e-02],\n",
       "       [  2.39553921e-03,  -1.93384751e-01,   2.34423884e-01,\n",
       "          2.00964360e-01,  -2.25407496e-02],\n",
       "       [ -4.03824234e-04,  -1.45660245e-03,   1.26273456e-01,\n",
       "          2.65167369e-01,   2.01926313e-02],\n",
       "       [  1.96613726e-01,   8.47603934e-02,  -2.59400665e-01,\n",
       "          2.23158580e-03,   2.16639174e-01],\n",
       "       [  3.06939396e-05,   5.56463459e-02,  -2.20963349e-03,\n",
       "         -1.99677384e-03,   3.53112916e-01],\n",
       "       [  4.83772762e-03,  -3.96734047e-01,   2.11803479e-01,\n",
       "         -1.48144712e-01,   3.47900555e-01],\n",
       "       [ -5.83256874e-02,  -3.91590737e-02,   2.57672689e-01,\n",
       "          5.97386886e-05,   1.28780364e-04],\n",
       "       [  5.67494124e-03,   4.76446197e-07,  -3.05830213e-01,\n",
       "         -1.11336811e-02,   2.35989435e-01],\n",
       "       [ -3.03307503e-03,   3.35178673e-02,  -1.53589348e-01,\n",
       "          1.66686854e-01,  -8.05819928e-04],\n",
       "       [  3.09679216e-02,  -4.66921687e-01,   2.26011091e-01,\n",
       "         -2.13751110e-02,   1.30240528e-01],\n",
       "       [  2.16026609e-02,   2.71955366e-02,  -2.23493191e-02,\n",
       "         -1.70819536e-01,   2.26089416e-02]])"
      ]
     },
     "execution_count": 407,
     "metadata": {},
     "output_type": "execute_result"
    }
   ],
   "source": [
    "gradb1_ind = delta2 * deriv_h\n",
    "gradb1_ind"
   ]
  },
  {
   "cell_type": "code",
   "execution_count": 414,
   "metadata": {},
   "outputs": [
    {
     "data": {
      "text/plain": [
       "array([[ True,  True,  True,  True,  True],\n",
       "       [ True,  True,  True,  True,  True],\n",
       "       [False, False,  True, False, False],\n",
       "       [ True, False, False, False,  True],\n",
       "       [ True, False,  True,  True, False],\n",
       "       [False,  True,  True, False, False],\n",
       "       [ True,  True,  True,  True,  True],\n",
       "       [ True,  True,  True,  True,  True],\n",
       "       [ True,  True,  True, False,  True],\n",
       "       [ True,  True,  True,  True,  True],\n",
       "       [ True,  True,  True, False, False],\n",
       "       [ True,  True,  True,  True,  True],\n",
       "       [ True, False,  True,  True, False],\n",
       "       [ True,  True,  True,  True,  True],\n",
       "       [False,  True,  True,  True,  True],\n",
       "       [False,  True, False,  True,  True],\n",
       "       [False,  True,  True, False,  True],\n",
       "       [ True,  True, False,  True, False],\n",
       "       [ True,  True,  True,  True,  True],\n",
       "       [ True, False,  True,  True,  True]], dtype=bool)"
      ]
     },
     "execution_count": 414,
     "metadata": {},
     "output_type": "execute_result"
    }
   ],
   "source": [
    "gradb1_ind == gradh1"
   ]
  },
  {
   "cell_type": "code",
   "execution_count": 408,
   "metadata": {},
   "outputs": [
    {
     "data": {
      "text/plain": [
       "array([ 0.59509274, -2.2731381 ,  0.66052198, -0.24933812,  2.29484855])"
      ]
     },
     "execution_count": 408,
     "metadata": {},
     "output_type": "execute_result"
    }
   ],
   "source": [
    "gradh1_b1 = np.sum(gradh1, axis = 0)\n",
    "gradh1_b1"
   ]
  },
  {
   "cell_type": "code",
   "execution_count": 409,
   "metadata": {},
   "outputs": [
    {
     "data": {
      "text/plain": [
       "array([ 0.59509274, -2.2731381 ,  0.66052198, -0.24933812,  2.29484855])"
      ]
     },
     "execution_count": 409,
     "metadata": {},
     "output_type": "execute_result"
    }
   ],
   "source": [
    "gradb1 = np.sum(gradb1_ind, axis = 0)\n",
    "gradb1"
   ]
  },
  {
   "cell_type": "code",
   "execution_count": 415,
   "metadata": {},
   "outputs": [
    {
     "data": {
      "text/plain": [
       "array([  0.00000000e+00,  -4.44089210e-16,  -1.11022302e-16,\n",
       "        -5.55111512e-17,   0.00000000e+00])"
      ]
     },
     "execution_count": 415,
     "metadata": {},
     "output_type": "execute_result"
    }
   ],
   "source": [
    "gradb1 - gradh1_b1"
   ]
  },
  {
   "cell_type": "code",
   "execution_count": 425,
   "metadata": {},
   "outputs": [
    {
     "data": {
      "text/plain": [
       "array([[ 0.12934467,  0.48020855, -1.22965084, -0.65266667,  1.11047267],\n",
       "       [-0.19279542,  0.03195569,  0.13028115, -0.22112702,  2.20196808],\n",
       "       [ 0.06666173,  0.99740924,  0.27814503, -1.0423232 ,  0.30003253],\n",
       "       [-0.20766192,  0.8332635 ,  1.1494671 ,  0.85845471,  0.31393749],\n",
       "       [-0.05583822, -2.02946745,  0.9331629 , -0.50124165,  0.16785525],\n",
       "       [-0.19394407,  1.33556591,  0.07274817,  0.80388024, -3.14253137],\n",
       "       [ 0.43135939,  0.81887804, -0.92100688,  0.15638053,  0.73948405],\n",
       "       [ 0.24485145, -1.44851982,  0.63376201, -0.50476703,  0.65857226],\n",
       "       [ 0.25952593, -0.76546294,  0.13977428, -1.03290992,  1.82769238],\n",
       "       [-0.17550237, -1.01193104,  0.86607282, -0.3781074 ,  0.07650125]])"
      ]
     },
     "execution_count": 425,
     "metadata": {},
     "output_type": "execute_result"
    }
   ],
   "source": [
    "gradh1_W1 = data.T.dot(gradh1)\n",
    "gradh1_W1"
   ]
  },
  {
   "cell_type": "code",
   "execution_count": 525,
   "metadata": {},
   "outputs": [
    {
     "data": {
      "text/plain": [
       "array([[ 0.,  0.,  0.,  0.,  0.],\n",
       "       [ 0.,  0.,  0.,  0.,  0.],\n",
       "       [ 0.,  0.,  0.,  0.,  0.],\n",
       "       [ 0.,  0.,  0.,  0.,  0.],\n",
       "       [ 0.,  0.,  0.,  0.,  0.],\n",
       "       [ 0.,  0.,  0.,  0.,  0.],\n",
       "       [ 0.,  0.,  0.,  0.,  0.],\n",
       "       [ 0.,  0.,  0.,  0.,  0.],\n",
       "       [ 0.,  0.,  0.,  0.,  0.],\n",
       "       [ 0.,  0.,  0.,  0.,  0.],\n",
       "       [ 0.,  0.,  0.,  0.,  0.],\n",
       "       [ 0.,  0.,  0.,  0.,  0.],\n",
       "       [ 0.,  0.,  0.,  0.,  0.],\n",
       "       [ 0.,  0.,  0.,  0.,  0.],\n",
       "       [ 0.,  0.,  0.,  0.,  0.],\n",
       "       [ 0.,  0.,  0.,  0.,  0.],\n",
       "       [ 0.,  0.,  0.,  0.,  0.],\n",
       "       [ 0.,  0.,  0.,  0.,  0.],\n",
       "       [ 0.,  0.,  0.,  0.,  0.],\n",
       "       [ 0.,  0.,  0.,  0.,  0.]])"
      ]
     },
     "execution_count": 525,
     "metadata": {},
     "output_type": "execute_result"
    }
   ],
   "source": [
    "delta2*deriv_h - gradb1_ind"
   ]
  },
  {
   "cell_type": "code",
   "execution_count": 541,
   "metadata": {},
   "outputs": [
    {
     "data": {
      "text/plain": [
       "array([[[  1.46406038e-01,   9.44978378e-02,  -2.63658842e-01,\n",
       "           9.27234583e-02,   1.62665430e-01],\n",
       "        [ -1.90917431e-01,  -1.23227735e-01,   3.43818256e-01,\n",
       "          -1.20913896e-01,  -2.12120118e-01],\n",
       "        [  7.55359102e-02,   4.87546845e-02,  -1.36030664e-01,\n",
       "           4.78392210e-02,   8.39246897e-02],\n",
       "        [  7.90107950e-02,   5.09975503e-02,  -1.42288494e-01,\n",
       "           5.00399727e-02,   8.77854842e-02],\n",
       "        [ -1.43030187e-01,  -9.23188936e-02,   2.57579360e-01,\n",
       "          -9.05854279e-02,  -1.58914668e-01],\n",
       "        [ -1.10641750e-01,  -7.14137631e-02,   1.99251861e-01,\n",
       "          -7.00728316e-02,  -1.22929273e-01],\n",
       "        [  4.77327446e-02,   3.08091197e-02,  -8.59606634e-02,\n",
       "           3.02306190e-02,   5.30337924e-02],\n",
       "        [ -1.31486961e-02,  -8.48683135e-03,   2.36791463e-02,\n",
       "          -8.32747468e-03,  -1.46089488e-02],\n",
       "        [  1.04593374e-01,   6.75098365e-02,  -1.88359498e-01,\n",
       "           6.62422088e-02,   1.16209184e-01],\n",
       "        [  1.55317735e-01,   1.00249897e-01,  -2.79707687e-01,\n",
       "           9.83675110e-02,   1.72566832e-01]],\n",
       "\n",
       "       [[  7.30227819e-02,   7.49945612e-03,   6.72130855e-03,\n",
       "          -7.03070133e-02,   8.97605886e-02],\n",
       "        [  2.90217267e-02,   2.98053786e-03,   2.67127566e-03,\n",
       "          -2.79423883e-02,   3.56738980e-02],\n",
       "        [  1.78846954e-01,   1.83676224e-02,   1.64617881e-02,\n",
       "          -1.72195510e-01,   2.19841089e-01],\n",
       "        [  9.68922529e-02,   9.95085616e-03,   8.91835001e-03,\n",
       "          -9.32887618e-02,   1.19101264e-01],\n",
       "        [  1.24605050e-01,   1.27969667e-02,   1.14691466e-02,\n",
       "          -1.19970901e-01,   1.53166209e-01],\n",
       "        [ -1.94230809e-01,  -1.99475478e-02,  -1.78777796e-02,\n",
       "           1.87007229e-01,  -2.38751131e-01],\n",
       "        [  1.23114644e-01,   1.26439017e-02,   1.13319637e-02,\n",
       "          -1.18535924e-01,   1.51334182e-01],\n",
       "        [  3.00695537e-01,   3.08814992e-02,   2.76772184e-02,\n",
       "          -2.89512458e-01,   3.69619010e-01],\n",
       "        [  1.64945540e-01,   1.69399440e-02,   1.51822464e-02,\n",
       "          -1.58811099e-01,   2.02753283e-01],\n",
       "        [  3.15667812e-02,   3.24191553e-03,   2.90553264e-03,\n",
       "          -3.03927904e-02,   3.88023133e-02]],\n",
       "\n",
       "       [[ -3.66045708e-04,   5.96636899e-03,  -1.50868949e-02,\n",
       "           7.37851269e-02,   3.23291229e-03],\n",
       "        [  5.96014482e-04,  -9.71474940e-03,   2.45652595e-02,\n",
       "          -1.20140745e-01,  -5.26399436e-03],\n",
       "        [  2.48564860e-05,  -4.05148767e-04,   1.02448187e-03,\n",
       "          -5.01040973e-03,  -2.19532253e-04],\n",
       "        [  1.67060741e-04,  -2.72300973e-03,   6.88555493e-03,\n",
       "          -3.36750239e-02,  -1.47547891e-03],\n",
       "        [ -4.75035849e-05,   7.74285586e-04,  -1.95790191e-03,\n",
       "           9.57546546e-03,   4.19551219e-04],\n",
       "        [ -3.99573637e-04,   6.51285810e-03,  -1.64687778e-02,\n",
       "           8.05434700e-02,   3.52903064e-03],\n",
       "        [  4.61840023e-04,  -7.52777024e-03,   1.90351415e-02,\n",
       "          -9.30947254e-02,  -4.07896678e-03],\n",
       "        [ -8.13945757e-09,   1.32669244e-07,  -3.35474881e-07,\n",
       "           1.64069923e-06,   7.18876136e-08],\n",
       "        [  3.92926839e-04,  -6.40451850e-03,   1.61948242e-02,\n",
       "          -7.92036515e-02,  -3.47032619e-03],\n",
       "        [  3.21817732e-05,  -5.24547425e-04,   1.32640000e-03,\n",
       "          -6.48699375e-03,  -2.84229122e-04]],\n",
       "\n",
       "       [[ -2.22488031e-02,   4.27258794e-01,  -2.07186902e-01,\n",
       "          -3.12407133e-02,   3.54591722e-01],\n",
       "        [ -1.15764713e-02,   2.22310797e-01,  -1.07803247e-01,\n",
       "          -1.62551314e-02,   1.84500751e-01],\n",
       "        [  3.46915515e-04,  -6.66205294e-03,   3.23057156e-03,\n",
       "           4.87122299e-04,  -5.52898819e-03],\n",
       "        [ -1.42779499e-02,   2.74189116e-01,  -1.32960150e-01,\n",
       "          -2.00484196e-02,   2.27555740e-01],\n",
       "        [  1.77752167e-02,  -3.41349491e-01,   1.65527649e-01,\n",
       "           2.49591155e-02,  -2.83293652e-01],\n",
       "        [  5.33889704e-03,  -1.02526446e-01,   4.97172602e-02,\n",
       "           7.49662579e-03,  -8.50890128e-02],\n",
       "        [ -2.15541237e-02,   4.13918396e-01,  -2.00717858e-01,\n",
       "          -3.02652774e-02,   3.43520225e-01],\n",
       "        [  1.27908969e-02,  -2.45632233e-01,   1.19112308e-01,\n",
       "           1.79603703e-02,  -2.03855737e-01],\n",
       "        [  5.27315213e-03,  -1.01263902e-01,   4.91050257e-02,\n",
       "           7.40430991e-03,  -8.40411991e-02],\n",
       "        [  4.85815048e-03,  -9.32943449e-02,   4.52404176e-02,\n",
       "           6.82158430e-03,  -7.74270838e-02]],\n",
       "\n",
       "       [[  2.40105637e-03,   2.52439391e-01,  -1.11154787e-01,\n",
       "          -5.42777907e-04,   7.56209721e-03],\n",
       "        [ -2.23562254e-04,  -2.35046208e-02,   1.03496174e-02,\n",
       "           5.05380274e-05,  -7.04106544e-04],\n",
       "        [  1.88533490e-05,   1.98218084e-03,  -8.72799164e-04,\n",
       "          -4.26194963e-06,   5.93783885e-05],\n",
       "        [ -2.78004160e-03,  -2.92284687e-01,   1.28699574e-01,\n",
       "           6.28450536e-04,  -8.75570649e-03],\n",
       "        [  1.81023058e-03,   1.90321856e-01,  -8.38030280e-02,\n",
       "          -4.09217033e-04,   5.70129872e-03],\n",
       "        [  3.21792799e-03,   3.38322662e-01,  -1.48971138e-01,\n",
       "          -7.27438239e-04,   1.01348242e-02],\n",
       "        [ -1.20705623e-03,  -1.26906033e-01,   5.58796035e-02,\n",
       "           2.72864670e-04,  -3.80160860e-03],\n",
       "        [  1.03973879e-03,   1.09314813e-01,  -4.81337903e-02,\n",
       "          -2.35041231e-04,   3.27464441e-03],\n",
       "        [ -1.13485285e-03,  -1.19314801e-01,   5.25370117e-02,\n",
       "           2.56542521e-04,  -3.57420496e-03],\n",
       "        [ -1.73246872e-03,  -1.82146223e-01,   8.02031112e-02,\n",
       "           3.91638346e-04,  -5.45638871e-03]],\n",
       "\n",
       "       [[  1.56814612e-04,  -1.50906880e-05,  -1.60105800e-02,\n",
       "          -1.02578131e-04,   1.98757745e-02],\n",
       "        [  1.21428980e-03,  -1.16854344e-04,  -1.23977503e-01,\n",
       "          -7.94311049e-04,   1.53907534e-01],\n",
       "        [ -3.63448713e-03,   3.49756382e-04,   3.71076687e-01,\n",
       "           2.37744999e-03,  -4.60660174e-01],\n",
       "        [ -2.37709458e-03,   2.28754146e-04,   2.42698447e-01,\n",
       "           1.55494387e-03,  -3.01289497e-01],\n",
       "        [ -1.85683286e-03,   1.78687974e-04,   1.89580362e-01,\n",
       "           1.21462179e-03,  -2.35347909e-01],\n",
       "        [ -6.41449038e-03,   6.17283503e-04,   6.54911616e-01,\n",
       "           4.19595105e-03,  -8.13017118e-01],\n",
       "        [  1.59648183e-03,  -1.53633701e-04,  -1.62998841e-01,\n",
       "          -1.04431673e-03,   2.02349210e-01],\n",
       "        [  5.01971434e-04,  -4.83060488e-05,  -5.12506690e-02,\n",
       "          -3.28357741e-04,   6.36233504e-02],\n",
       "        [ -1.87703428e-03,   1.80632011e-04,   1.91642902e-01,\n",
       "           1.22783627e-03,  -2.37908378e-01],\n",
       "        [ -6.66267432e-04,   6.41166905e-05,   6.80250893e-02,\n",
       "           4.35829718e-04,  -8.44473677e-02]],\n",
       "\n",
       "       [[  1.91769433e-03,  -2.10413251e-01,   3.06805160e-02,\n",
       "          -4.57936572e-02,   1.46671133e-01],\n",
       "        [  1.69463044e-03,  -1.85938235e-01,   2.71117954e-02,\n",
       "          -4.04669943e-02,   1.29610524e-01],\n",
       "        [  3.54276221e-03,  -3.88718942e-01,   5.66794044e-02,\n",
       "          -8.45995295e-02,   2.70961299e-01],\n",
       "        [  3.87957550e-03,  -4.25674769e-01,   6.20679616e-02,\n",
       "          -9.26424757e-02,   2.96721811e-01],\n",
       "        [  5.65263223e-03,  -6.20218093e-01,   9.04344714e-02,\n",
       "          -1.34982254e-01,   4.32330617e-01],\n",
       "        [ -7.18438545e-03,   7.88285114e-01,  -1.14940451e-01,\n",
       "           1.71559815e-01,  -5.49483793e-01],\n",
       "        [ -4.90526921e-04,   5.38215931e-02,  -7.84776738e-03,\n",
       "           1.17135569e-02,  -3.75170006e-02],\n",
       "        [  2.52707550e-03,  -2.77275768e-01,   4.04297905e-02,\n",
       "          -6.03453987e-02,   1.93278470e-01],\n",
       "        [  1.41766319e-02,  -1.55548835e+00,   2.26806939e-01,\n",
       "          -3.38531439e-01,   1.08427221e+00],\n",
       "        [  5.22916361e-03,  -5.73754270e-01,   8.36595462e-02,\n",
       "          -1.24870018e-01,   3.99942441e-01]],\n",
       "\n",
       "       [[ -3.64364792e-03,   2.72245804e-01,  -1.53769040e-01,\n",
       "          -1.73058217e-01,   2.97986683e-03],\n",
       "        [ -1.77270180e-03,   1.32452596e-01,  -7.48114691e-02,\n",
       "          -8.41960088e-02,   1.44976008e-03],\n",
       "        [ -1.27768062e-02,   9.54656421e-01,  -5.39206111e-01,\n",
       "          -6.06845489e-01,   1.04491932e-02],\n",
       "        [ -7.73680593e-04,   5.78078069e-02,  -3.26508282e-02,\n",
       "          -3.67466306e-02,   6.32735431e-04],\n",
       "        [  3.19380731e-03,  -2.38634648e-01,   1.34784890e-01,\n",
       "           1.51692647e-01,  -2.61197588e-03],\n",
       "        [  4.09025431e-06,  -3.05615306e-04,   1.72616700e-04,\n",
       "           1.94270175e-04,  -3.34511276e-06],\n",
       "        [  4.29255836e-03,  -3.20731045e-01,   1.81154325e-01,\n",
       "           2.03878781e-01,  -3.51056210e-03],\n",
       "        [ -7.69879558e-05,   5.75238015e-03,  -3.24904171e-03,\n",
       "          -3.65660971e-03,   6.29626849e-05],\n",
       "        [ -1.71350341e-03,   1.28029416e-01,  -7.23131821e-02,\n",
       "          -8.13843304e-02,   1.40134615e-03],\n",
       "        [  1.79949604e-03,  -1.34454607e-01,   7.59422384e-02,\n",
       "           8.54686247e-02,  -1.47167308e-03]],\n",
       "\n",
       "       [[ -7.70946356e-05,   5.41502342e-03,  -1.01053248e-01,\n",
       "           8.03194523e-02,  -5.84832409e-02],\n",
       "        [  3.29068459e-04,  -2.31133256e-02,   4.31332692e-01,\n",
       "          -3.42833171e-01,   2.49628133e-01],\n",
       "        [  4.45566854e-05,  -3.12960160e-03,   5.84035161e-02,\n",
       "          -4.64204615e-02,   3.38002683e-02],\n",
       "        [  2.65678475e-04,  -1.86608984e-02,   3.48243073e-01,\n",
       "          -2.76791626e-01,   2.01541107e-01],\n",
       "        [  5.15327991e-06,  -3.61959444e-04,   6.75475888e-03,\n",
       "          -5.36883814e-03,   3.90922803e-03],\n",
       "        [ -4.70314414e-04,   3.30342513e-02,  -6.16473493e-01,\n",
       "           4.89987350e-01,  -3.56775941e-01],\n",
       "        [  1.51058237e-04,  -1.06101272e-02,   1.98002434e-01,\n",
       "          -1.57376901e-01,   1.14591310e-01],\n",
       "        [  1.80617247e-04,  -1.26863123e-02,   2.36747464e-01,\n",
       "          -1.88172345e-01,   1.37014487e-01],\n",
       "        [  6.15376205e-05,  -4.32231962e-03,   8.06615971e-02,\n",
       "          -6.41116977e-02,   4.66818405e-02],\n",
       "        [  2.03835891e-04,  -1.43171586e-02,   2.67181741e-01,\n",
       "          -2.12362210e-01,   1.54627925e-01]],\n",
       "\n",
       "       [[  3.82065458e-03,  -3.60241056e-02,   1.19719431e-02,\n",
       "          -2.68774561e-02,   1.57032033e-03],\n",
       "        [ -2.91731924e-02,   2.75067568e-01,  -9.14136025e-02,\n",
       "           2.05226927e-01,  -1.19904210e-02],\n",
       "        [ -6.90254445e-02,   6.50825625e-01,  -2.16289821e-01,\n",
       "           4.85578666e-01,  -2.83700231e-02],\n",
       "        [ -6.75341486e-02,   6.36764526e-01,  -2.11616876e-01,\n",
       "           4.75087731e-01,  -2.77570882e-02],\n",
       "        [  1.09934081e-02,  -1.03654410e-01,   3.44476199e-02,\n",
       "          -7.73361836e-02,   4.51838079e-03],\n",
       "        [ -6.49359921e-03,   6.12267084e-02,  -2.03475605e-02,\n",
       "           4.56810277e-02,  -2.66892246e-03],\n",
       "        [ -7.18078682e-03,   6.77060482e-02,  -2.25008489e-02,\n",
       "           5.05152399e-02,  -2.95136220e-03],\n",
       "        [  2.78559631e-02,  -2.62647705e-01,   8.72860916e-02,\n",
       "          -1.95960511e-01,   1.14490290e-02],\n",
       "        [ -7.34914480e-02,   6.92934582e-01,  -2.30283952e-01,\n",
       "           5.16996008e-01,  -3.02055871e-02],\n",
       "        [ -4.51854755e-02,   4.26043838e-01,  -1.41587765e-01,\n",
       "           3.17869781e-01,  -1.85716005e-02]],\n",
       "\n",
       "       [[ -4.08796112e-03,   3.30008936e-01,  -4.00041760e-01,\n",
       "          -3.42943453e-01,   3.84655395e-02],\n",
       "        [ -5.84373546e-04,   4.71747373e-02,  -5.71859211e-02,\n",
       "          -4.90237250e-02,   5.49864421e-03],\n",
       "        [ -3.56582932e-04,   2.87858789e-02,  -3.48946723e-02,\n",
       "          -2.99141255e-02,   3.35525571e-03],\n",
       "        [  6.72177385e-03,  -5.42628800e-01,   6.57782735e-01,\n",
       "           5.63896835e-01,  -6.32483163e-02],\n",
       "        [  4.53821614e-03,  -3.66356684e-01,   4.44103044e-01,\n",
       "           3.80715832e-01,  -4.27021998e-02],\n",
       "        [ -8.85050432e-04,   7.14474876e-02,  -8.66097114e-02,\n",
       "          -7.42478323e-02,   8.32785377e-03],\n",
       "        [ -8.58305439e-04,   6.92884438e-02,  -8.39924864e-02,\n",
       "          -7.20041661e-02,   8.07619761e-03],\n",
       "        [  3.92561662e-03,  -3.16903347e-01,   3.84154970e-01,\n",
       "           3.29324199e-01,  -3.69379642e-02],\n",
       "        [ -3.32785794e-03,   2.68648068e-01,  -3.25659200e-01,\n",
       "          -2.79177581e-01,   3.13133730e-02],\n",
       "        [ -3.40762558e-03,   2.75087472e-01,  -3.33465142e-01,\n",
       "          -2.85869373e-01,   3.20639440e-02]],\n",
       "\n",
       "       [[  2.49244441e-04,   8.99029907e-04,  -7.79372667e-02,\n",
       "          -1.63664009e-01,  -1.24630983e-02],\n",
       "        [ -3.68018750e-04,  -1.32745132e-03,   1.15077293e-01,\n",
       "           2.41656037e-01,   1.84022313e-02],\n",
       "        [  4.10567097e-04,   1.48092409e-03,  -1.28381909e-01,\n",
       "          -2.69595006e-01,  -2.05297982e-02],\n",
       "        [ -9.19296997e-05,  -3.31592347e-04,   2.87458749e-02,\n",
       "           6.03647691e-02,   4.59680816e-03],\n",
       "        [  6.80648775e-04,   2.45511435e-03,  -2.12834857e-01,\n",
       "          -4.46941590e-01,  -3.40348315e-02],\n",
       "        [  5.68778318e-04,   2.05159527e-03,  -1.77853625e-01,\n",
       "          -3.73482911e-01,  -2.84409154e-02],\n",
       "        [ -9.60363629e-05,  -3.46405167e-04,   3.00300042e-02,\n",
       "           6.30613707e-02,   4.80215575e-03],\n",
       "        [ -2.31183384e-04,  -8.33883296e-04,   7.22896807e-02,\n",
       "           1.51804386e-01,   1.15599819e-02],\n",
       "        [  3.83663523e-04,   1.38388234e-03,  -1.19969321e-01,\n",
       "          -2.51929029e-01,  -1.91845249e-02],\n",
       "        [  1.20679801e-04,   4.35294562e-04,  -3.77358619e-02,\n",
       "          -7.92432515e-02,  -6.03441428e-03]],\n",
       "\n",
       "       [[ -2.27797756e-01,  -9.82038631e-02,   3.00543052e-01,\n",
       "          -2.58552771e-03,  -2.50999351e-01],\n",
       "        [ -1.82839500e-03,  -7.88223097e-04,   2.41227756e-03,\n",
       "          -2.07524694e-05,  -2.01462019e-03],\n",
       "        [ -1.65859571e-02,  -7.15022436e-03,   2.18825430e-02,\n",
       "          -1.88252302e-04,  -1.82752655e-02],\n",
       "        [ -1.30438730e-01,  -5.62322799e-02,   1.72093241e-01,\n",
       "          -1.48049286e-03,  -1.43724140e-01],\n",
       "        [ -1.98373920e-01,  -8.55192148e-02,   2.61722962e-01,\n",
       "          -2.25156418e-03,  -2.18578646e-01],\n",
       "        [  1.71023862e-01,   7.37285750e-02,  -2.25638893e-01,\n",
       "           1.94113824e-03,   1.88442938e-01],\n",
       "        [  2.44910045e-01,   1.05580990e-01,  -3.23120008e-01,\n",
       "           2.77975394e-03,   2.69854557e-01],\n",
       "        [ -7.50999289e-02,  -3.23756619e-02,   9.90824592e-02,\n",
       "          -8.52391836e-04,  -8.27489864e-02],\n",
       "        [  4.60964605e-02,   1.98722348e-02,  -6.08169772e-02,\n",
       "           5.23199518e-04,   5.07914646e-02],\n",
       "        [ -2.84406514e-01,  -1.22607961e-01,   3.75229341e-01,\n",
       "          -3.22804288e-03,  -3.13373809e-01]],\n",
       "\n",
       "       [[  2.43852789e-05,   4.42091072e-02,  -1.75547778e-03,\n",
       "          -1.58636811e-03,   2.80536063e-01],\n",
       "        [  8.75752464e-05,   1.58768881e-01,  -6.30447573e-03,\n",
       "          -5.69714945e-03,   1.00749370e+00],\n",
       "        [ -5.94493628e-06,  -1.07778273e-02,   4.27971465e-04,\n",
       "           3.86743879e-04,  -6.83924519e-02],\n",
       "        [  4.93672078e-05,   8.94999065e-02,  -3.55390794e-03,\n",
       "          -3.21155090e-03,   5.67936178e-01],\n",
       "        [  3.06271332e-06,   5.55252297e-03,  -2.20482414e-04,\n",
       "          -1.99242779e-04,   3.52344354e-02],\n",
       "        [ -2.77082240e-05,  -5.02334153e-02,   1.99469408e-03,\n",
       "           1.80254009e-03,  -3.18764287e-01],\n",
       "        [  6.87793692e-06,   1.24693038e-02,  -4.95137475e-04,\n",
       "          -4.47439615e-04,   7.91259902e-02],\n",
       "        [ -5.69695104e-05,  -1.03282443e-01,   4.10119194e-03,\n",
       "           3.70611363e-03,  -6.55395502e-01],\n",
       "        [  5.17049366e-05,   9.37380742e-02,  -3.72219926e-03,\n",
       "          -3.36363029e-03,   5.94830158e-01],\n",
       "        [ -2.88480889e-05,  -5.22999248e-02,   2.07675209e-03,\n",
       "           1.87669325e-03,  -3.31877658e-01]],\n",
       "\n",
       "       [[  3.51027326e-03,  -2.87871708e-01,   1.53685397e-01,\n",
       "          -1.07494357e-01,   2.52437944e-01],\n",
       "        [  3.83767415e-03,  -3.14721314e-01,   1.68019533e-01,\n",
       "          -1.17520286e-01,   2.75982666e-01],\n",
       "        [  8.20704624e-03,  -6.73046297e-01,   3.59317656e-01,\n",
       "          -2.51322645e-01,   5.90201880e-01],\n",
       "        [ -4.91662215e-03,   4.03204057e-01,  -2.15257608e-01,\n",
       "           1.50560683e-01,  -3.53574179e-01],\n",
       "        [  6.21801820e-03,  -5.09929396e-01,   2.72234816e-01,\n",
       "          -1.90413059e-01,   4.47162831e-01],\n",
       "        [ -5.67854525e-03,   4.65688111e-01,  -2.48615825e-01,\n",
       "           1.73892893e-01,  -4.08367150e-01],\n",
       "        [ -6.77380687e-03,   5.55508706e-01,  -2.96568136e-01,\n",
       "           2.07432859e-01,  -4.87131842e-01],\n",
       "        [  4.13810304e-03,  -3.39358991e-01,   1.81172792e-01,\n",
       "          -1.26720256e-01,   2.97587722e-01],\n",
       "        [  2.79380342e-03,  -2.29115201e-01,   1.22317197e-01,\n",
       "          -8.55540527e-02,   2.00913701e-01],\n",
       "        [ -4.85413155e-03,   3.98079306e-01,  -2.12521670e-01,\n",
       "           1.48647046e-01,  -3.49080228e-01]],\n",
       "\n",
       "       [[  1.25720764e-01,   8.44072122e-02,  -5.55412355e-01,\n",
       "          -1.28766482e-04,  -2.77585513e-04],\n",
       "        [  2.14656119e-02,   1.44117201e-02,  -9.48313202e-02,\n",
       "          -2.19856389e-05,  -4.73950577e-05],\n",
       "        [ -6.17196990e-02,  -4.14377670e-02,   2.72666839e-01,\n",
       "           6.32149237e-05,   1.36274182e-04],\n",
       "        [ -1.24368641e-01,  -8.34994148e-02,   5.49438909e-01,\n",
       "           1.27381602e-04,   2.74600087e-04],\n",
       "        [  8.85233899e-02,   5.94334007e-02,  -3.91080859e-01,\n",
       "          -9.06679621e-05,  -1.95455466e-04],\n",
       "        [ -3.92555209e-02,  -2.63556232e-02,   1.73424028e-01,\n",
       "           4.02065272e-05,   8.66743372e-05],\n",
       "        [  5.99053541e-02,   4.02196405e-02,  -2.64651380e-01,\n",
       "          -6.13566244e-05,  -1.32268194e-04],\n",
       "        [ -4.53869331e-02,  -3.04721700e-02,   2.00511535e-01,\n",
       "           4.64864793e-05,   1.00212206e-04],\n",
       "        [ -2.12310796e-02,  -1.42542583e-02,   9.37951977e-02,\n",
       "           2.17454249e-05,   4.68772216e-05],\n",
       "        [ -1.00598140e-01,  -6.75402238e-02,   4.44424994e-01,\n",
       "           1.03035236e-04,   2.22115944e-04]],\n",
       "\n",
       "       [[ -1.32528138e-03,  -1.11265518e-07,   7.14211954e-02,\n",
       "           2.60007279e-03,  -5.51111266e-02],\n",
       "        [  8.97151307e-03,   7.53213665e-07,  -4.83486901e-01,\n",
       "          -1.76012335e-02,   3.73075635e-01],\n",
       "        [ -4.26667040e-03,  -3.58213205e-07,   2.29936604e-01,\n",
       "           8.37079113e-03,  -1.77427236e-01],\n",
       "        [ -2.38869022e-03,  -2.00545226e-07,   1.28729727e-01,\n",
       "           4.68637719e-03,  -9.93324216e-02],\n",
       "        [  7.51532245e-04,   6.30957512e-08,  -4.05010831e-02,\n",
       "          -1.47443295e-03,   3.12520716e-02],\n",
       "        [ -1.18392698e-02,  -9.93979470e-07,   6.38034167e-01,\n",
       "           2.32274925e-02,  -4.92329785e-01],\n",
       "        [  1.43756705e-03,   1.20692590e-07,  -7.74724210e-02,\n",
       "          -2.82036632e-03,   5.97804668e-02],\n",
       "        [  1.33814776e-02,   1.12345729e-06,  -7.21145818e-01,\n",
       "          -2.62531537e-02,   5.56461681e-01],\n",
       "        [ -3.77609460e-03,  -3.17026351e-07,   2.03498815e-01,\n",
       "           7.40832926e-03,  -1.57026900e-01],\n",
       "        [  5.17508258e-03,   4.34479991e-07,  -2.78892158e-01,\n",
       "          -1.01530072e-02,   2.15203077e-01]],\n",
       "\n",
       "       [[ -2.18946177e-03,   2.41952766e-02,  -1.10870322e-01,\n",
       "           1.20324915e-01,  -5.81690829e-04],\n",
       "        [ -7.77399901e-04,   8.59088103e-03,  -3.93661029e-02,\n",
       "           4.27230922e-02,  -2.06537697e-04],\n",
       "        [  3.22091502e-03,  -3.55936472e-02,   1.63101220e-01,\n",
       "          -1.77009862e-01,   8.55724796e-04],\n",
       "        [ -1.99019261e-03,   2.19931954e-02,  -1.00779697e-01,\n",
       "           1.09373801e-01,  -5.28749486e-04],\n",
       "        [ -3.67677022e-03,   4.06312060e-02,  -1.86184890e-01,\n",
       "           2.02062018e-01,  -9.76835286e-04],\n",
       "        [ -1.91453293e-03,   2.11570964e-02,  -9.69484307e-02,\n",
       "           1.05215819e-01,  -5.08648410e-04],\n",
       "        [  1.43578386e-03,  -1.58665422e-02,   7.27054571e-02,\n",
       "          -7.89054978e-02,   3.81455531e-04],\n",
       "        [  8.94074229e-05,  -9.88022422e-04,   4.52742765e-03,\n",
       "          -4.91350921e-03,   2.37535446e-05],\n",
       "        [  1.92445997e-03,  -2.12667979e-02,   9.74511173e-02,\n",
       "          -1.05761372e-01,   5.11285799e-04],\n",
       "        [  5.08495188e-03,  -5.61927222e-02,   2.57492622e-01,\n",
       "          -2.79450599e-01,   1.35095753e-03]],\n",
       "\n",
       "       [[  2.93159994e-02,  -4.42014679e-01,   2.13954979e-01,\n",
       "          -2.02348983e-02,   1.23293107e-01],\n",
       "        [  7.26334194e-03,  -1.09513706e-01,   5.30095581e-02,\n",
       "          -5.01340524e-03,   3.05471418e-02],\n",
       "        [ -3.08143573e-02,   4.64606307e-01,  -2.24890343e-01,\n",
       "           2.12691157e-02,  -1.29594689e-01],\n",
       "        [ -4.67929038e-02,   7.05524313e-01,  -3.41505491e-01,\n",
       "           3.22980511e-02,  -1.96795013e-01],\n",
       "        [  1.00997324e-03,  -1.52279645e-02,   7.37101953e-03,\n",
       "          -6.97117827e-04,   4.24760339e-03],\n",
       "        [  1.65271557e-02,  -2.49189712e-01,   1.20619025e-01,\n",
       "          -1.14076041e-02,   6.95075868e-02],\n",
       "        [  2.53435008e-03,  -3.82118965e-02,   1.84962761e-02,\n",
       "          -1.74929448e-03,   1.06586131e-02],\n",
       "        [ -1.33201165e-03,   2.00835282e-02,  -9.72133070e-03,\n",
       "           9.19399671e-04,  -5.60198723e-03],\n",
       "        [  2.15625774e-03,  -3.25111745e-02,   1.57368703e-02,\n",
       "          -1.48832231e-03,   9.06848548e-03],\n",
       "        [  6.05078465e-02,  -9.12312623e-01,   4.41600331e-01,\n",
       "          -4.17645703e-02,   2.54475389e-01]],\n",
       "\n",
       "       [[  4.53501536e-03,   5.70911967e-03,  -4.69176024e-03,\n",
       "          -3.58598980e-02,   4.74626241e-03],\n",
       "        [ -3.00553212e-02,  -3.78365698e-02,   3.10941308e-02,\n",
       "           2.37657575e-01,  -3.14553380e-02],\n",
       "        [ -4.35165747e-03,  -5.47829087e-03,   4.50206491e-03,\n",
       "           3.44100252e-02,  -4.55436347e-03],\n",
       "        [  4.08219688e-03,   5.13906759e-03,  -4.22329088e-03,\n",
       "          -3.22793093e-02,   4.27235104e-03],\n",
       "        [  2.53866547e-02,   3.19591970e-02,  -2.62641000e-02,\n",
       "          -2.00740852e-01,   2.65691988e-02],\n",
       "        [ -5.18923452e-03,  -6.53271455e-03,   5.36859134e-03,\n",
       "           4.10330298e-02,  -5.43095596e-03],\n",
       "        [ -1.80592710e-02,  -2.27347718e-02,   1.86834581e-02,\n",
       "           1.42800754e-01,  -1.89004958e-02],\n",
       "        [  1.30577600e-02,   1.64383819e-02,  -1.35090786e-02,\n",
       "          -1.03252118e-01,   1.36660078e-02],\n",
       "        [  2.32282856e-02,   2.92420315e-02,  -2.40311307e-02,\n",
       "          -1.83673898e-01,   2.43102900e-02],\n",
       "        [ -4.51880446e-03,  -5.68871180e-03,   4.67498904e-03,\n",
       "           3.57317129e-02,  -4.72929638e-03]]])"
      ]
     },
     "execution_count": 541,
     "metadata": {},
     "output_type": "execute_result"
    }
   ],
   "source": [
    "gradW1_ind = gradb1_ind[:, np.newaxis, :] * data[:, :, np.newaxis]\n",
    "gradW1_ind"
   ]
  },
  {
   "cell_type": "code",
   "execution_count": 542,
   "metadata": {},
   "outputs": [
    {
     "data": {
      "text/plain": [
       "(10, 5)"
      ]
     },
     "execution_count": 542,
     "metadata": {},
     "output_type": "execute_result"
    }
   ],
   "source": [
    "gradW1 = np.sum(gradW1_ind, axis = 0)\n",
    "gradW1.shape"
   ]
  },
  {
   "cell_type": "code",
   "execution_count": 543,
   "metadata": {},
   "outputs": [
    {
     "data": {
      "text/plain": [
       "array([[ -2.77555756e-17,   0.00000000e+00,   2.22044605e-16,\n",
       "         -1.11022302e-16,   0.00000000e+00],\n",
       "       [  0.00000000e+00,   0.00000000e+00,  -2.77555756e-17,\n",
       "          0.00000000e+00,   0.00000000e+00],\n",
       "       [  1.38777878e-17,   0.00000000e+00,  -1.11022302e-16,\n",
       "          0.00000000e+00,   0.00000000e+00],\n",
       "       [  0.00000000e+00,   1.11022302e-16,  -4.44089210e-16,\n",
       "          0.00000000e+00,   0.00000000e+00],\n",
       "       [ -1.38777878e-17,   0.00000000e+00,   0.00000000e+00,\n",
       "          2.22044605e-16,   5.55111512e-17],\n",
       "       [  0.00000000e+00,  -4.44089210e-16,  -1.38777878e-16,\n",
       "          0.00000000e+00,   4.44089210e-16],\n",
       "       [  0.00000000e+00,   1.11022302e-16,   2.22044605e-16,\n",
       "         -2.77555756e-17,   0.00000000e+00],\n",
       "       [  2.77555756e-17,   0.00000000e+00,   0.00000000e+00,\n",
       "          0.00000000e+00,   0.00000000e+00],\n",
       "       [  0.00000000e+00,   0.00000000e+00,   2.77555756e-17,\n",
       "         -2.22044605e-16,   0.00000000e+00],\n",
       "       [  0.00000000e+00,   0.00000000e+00,  -1.11022302e-16,\n",
       "         -5.55111512e-17,  -5.55111512e-17]])"
      ]
     },
     "execution_count": 543,
     "metadata": {},
     "output_type": "execute_result"
    }
   ],
   "source": [
    "gradW1 - gradh1_W1"
   ]
  },
  {
   "cell_type": "code",
   "execution_count": null,
   "metadata": {
    "collapsed": true
   },
   "outputs": [],
   "source": []
  },
  {
   "cell_type": "markdown",
   "metadata": {},
   "source": [
    "### Test the forward backward propagation implementation"
   ]
  },
  {
   "cell_type": "code",
   "execution_count": null,
   "metadata": {
    "collapsed": true
   },
   "outputs": [],
   "source": []
  }
 ],
 "metadata": {
  "kernelspec": {
   "display_name": "Python 2",
   "language": "python",
   "name": "python2"
  },
  "language_info": {
   "codemirror_mode": {
    "name": "ipython",
    "version": 2
   },
   "file_extension": ".py",
   "mimetype": "text/x-python",
   "name": "python",
   "nbconvert_exporter": "python",
   "pygments_lexer": "ipython2",
   "version": "2.7.10"
  }
 },
 "nbformat": 4,
 "nbformat_minor": 2
}
